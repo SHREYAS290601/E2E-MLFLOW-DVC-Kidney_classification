{
 "cells": [
  {
   "cell_type": "code",
   "execution_count": 1,
   "metadata": {},
   "outputs": [],
   "source": [
    "import gdown"
   ]
  },
  {
   "cell_type": "code",
   "execution_count": 2,
   "metadata": {},
   "outputs": [],
   "source": [
    "file_url=\"https://drive.google.com/drive/folders/1Kcnsas1hx3t361WxjiULyOdWg1DkoLE9?usp=drive_link\""
   ]
  },
  {
   "cell_type": "code",
   "execution_count": 7,
   "metadata": {},
   "outputs": [
    {
     "data": {
      "text/plain": [
       "'1Kcnsas1hx3t361WxjiULyOdWg1DkoLE9'"
      ]
     },
     "execution_count": 7,
     "metadata": {},
     "output_type": "execute_result"
    }
   ],
   "source": [
    "file_url.split(\"/\")[-1].split(\"?\")[0]"
   ]
  },
  {
   "cell_type": "code",
   "execution_count": 3,
   "metadata": {},
   "outputs": [
    {
     "data": {
      "text/plain": [
       "'e:\\\\MLOPS-E2E-Kidney_Classification\\\\research'"
      ]
     },
     "execution_count": 3,
     "metadata": {},
     "output_type": "execute_result"
    }
   ],
   "source": [
    "%pwd"
   ]
  },
  {
   "cell_type": "code",
   "execution_count": 1,
   "metadata": {},
   "outputs": [],
   "source": [
    "import os,sys"
   ]
  },
  {
   "cell_type": "code",
   "execution_count": 2,
   "metadata": {},
   "outputs": [
    {
     "data": {
      "text/plain": [
       "'e:\\\\MLOPS-E2E-Kidney_Classification\\\\research'"
      ]
     },
     "execution_count": 2,
     "metadata": {},
     "output_type": "execute_result"
    }
   ],
   "source": [
    "%pwd"
   ]
  },
  {
   "cell_type": "code",
   "execution_count": 3,
   "metadata": {},
   "outputs": [],
   "source": [
    "os.chdir(\"../\")"
   ]
  },
  {
   "cell_type": "code",
   "execution_count": 4,
   "metadata": {},
   "outputs": [],
   "source": [
    "from src.CNN import components,config,constants"
   ]
  },
  {
   "cell_type": "code",
   "execution_count": 5,
   "metadata": {},
   "outputs": [],
   "source": [
    "from src.CNN.utils.common import read_yaml, create_directories, save_json\n",
    "from src.CNN.entity.config_entity import PrepareBaseModelConfig\n",
    "# from src.CNN.config.configuration import ConfigManager\n",
    "from src.CNN.constants import *"
   ]
  },
  {
   "cell_type": "code",
   "execution_count": 6,
   "metadata": {},
   "outputs": [],
   "source": [
    "import numpy as np"
   ]
  },
  {
   "cell_type": "code",
   "execution_count": 7,
   "metadata": {},
   "outputs": [],
   "source": [
    "from src.CNN.entity.config_entity import TrainConfigs"
   ]
  },
  {
   "cell_type": "code",
   "execution_count": 8,
   "metadata": {},
   "outputs": [],
   "source": [
    "class ModelConfig:\n",
    "    def __init__(\n",
    "        self, config_filepath=CONFIG_FILE_PATH, params_filepath=PARAMS_FILE_PATH\n",
    "    ):\n",
    "        self.config = read_yaml(config_filepath)\n",
    "        self.params = read_yaml(params_filepath)\n",
    "\n",
    "        create_directories([self.config.artifacts_roots])\n",
    "\n",
    "    def prepare_data_for_model(self)->TrainConfigs:\n",
    "        config=self.config.model_train\n",
    "        \n",
    "        return TrainConfigs(\n",
    "            config.model_file_path,\n",
    "            config.data_file_path,\n",
    "            config.train_history,\n",
    "            config.save_weights_path,\n",
    "            self.params.IMAGE_SIZE,\n",
    "            self.params.BATCH_SIZE,\n",
    "            self.params.EPOCHS,\n",
    "            self.params.CLASSES,\n",
    "            self.params.featurewise_center,\n",
    "            self.params.featurewise_std_normalization,\n",
    "            self.params.rotation_range,\n",
    "            self.params.width_shift_range,\n",
    "            self.params.height_shift_range,\n",
    "            self.params.horizontal_flip,\n",
    "            self.params.validation_split,\n",
    "            self.params.rescale,\n",
    "        )"
   ]
  },
  {
   "cell_type": "code",
   "execution_count": 9,
   "metadata": {},
   "outputs": [],
   "source": [
    "from sklearn.model_selection import train_test_split\n",
    "import tensorflow as tf\n",
    "from tensorflow.keras.preprocessing.image import ImageDataGenerator\n",
    "from src.CNN import logger"
   ]
  },
  {
   "cell_type": "code",
   "execution_count": 18,
   "metadata": {},
   "outputs": [],
   "source": [
    "from glob import glob\n",
    "import cv2\n",
    "import json"
   ]
  },
  {
   "cell_type": "code",
   "execution_count": 11,
   "metadata": {},
   "outputs": [],
   "source": [
    "from tensorflow.keras.models import load_model\n",
    "from keras.utils import to_categorical"
   ]
  },
  {
   "cell_type": "code",
   "execution_count": 12,
   "metadata": {},
   "outputs": [],
   "source": [
    "data=[]\n",
    "class_name=[]"
   ]
  },
  {
   "cell_type": "code",
   "execution_count": 19,
   "metadata": {},
   "outputs": [],
   "source": [
    "class TrainModel:\n",
    "    def __init__(self, config: TrainConfigs):\n",
    "        self.config = config\n",
    "        self.data=[]\n",
    "        self.class_name=[]\n",
    "        \n",
    "    \n",
    "    def train(self):\n",
    "        self.load_data(self,self.config.data_file_path)\n",
    "        train,valid=self.preprocess_data(self)\n",
    "        model=load_model('./artifacts/prepare_base_model/base_model_update.h5')\n",
    "        logger.info(\"Model is loaded from {}\".format(self.config.model_file_path))\n",
    "        history=model.fit_generator(\n",
    "            train,\n",
    "            epochs=self.config.EPOCHS,\n",
    "            validation_data=(valid),\n",
    "        )\n",
    "        model.save('./'+self.config.save_weights_path+'/weights.h5')\n",
    "        with open('./'+self.config.train_history, \"w\") as f:\n",
    "            json.dump(history.history, f)\n",
    "            logger.info(\"Saving history at {}\".format(self.config.train_history))\n",
    "        logger.info(\"Model is saved at {}\".format(self.config.model_file_path))\n",
    "        # print(\"Model is saved at {}\".format(self.config.model_file_path))\n",
    "    @staticmethod\n",
    "    def preprocess_data(self,augmentation=True):\n",
    "        self.x_train, self.x_test, self.y_train, self.y_test = train_test_split(\n",
    "            self.data, self.class_name, test_size=0.2, random_state=42\n",
    "        )\n",
    "        self.y_train = to_categorical(self.y_train, num_classes=self.config.CLASSES)\n",
    "        self.y_test = to_categorical(self.y_test, num_classes=self.config.CLASSES)\n",
    "        # print(self.x_train[0].shape)\n",
    "        datagen = ImageDataGenerator(\n",
    "            featurewise_center=self.config.featurewise_center,\n",
    "            featurewise_std_normalization=self.config.featurewise_std_normalization,\n",
    "            rotation_range=self.config.rotation_range,\n",
    "            width_shift_range=self.config.width_shift_range,\n",
    "            height_shift_range=self.config.height_shift_range,\n",
    "            horizontal_flip=self.config.horizontal_flip,\n",
    "            rescale=self.config.rescale,\n",
    "        )\n",
    "        validgen = ImageDataGenerator(\n",
    "            featurewise_center=self.config.featurewise_center,\n",
    "            featurewise_std_normalization=self.config.featurewise_std_normalization,\n",
    "            rotation_range=self.config.rotation_range,\n",
    "            width_shift_range=self.config.width_shift_range,\n",
    "            height_shift_range=self.config.height_shift_range,\n",
    "            horizontal_flip=self.config.horizontal_flip,\n",
    "            rescale=self.config.rescale,\n",
    "        )\n",
    "        try:\n",
    "            datagen.fit(self.x_train)\n",
    "            validgen.fit(self.x_test)\n",
    "            # print(dir(train_gen.flow))\n",
    "            print(\"Data Augmentation Done\")\n",
    "            logger.info(\"Data Augmentation Done\")\n",
    "            self.x_train=np.array(self.x_train)\n",
    "            self.x_test=np.array(self.x_test)\n",
    "            self.y_train=np.array(self.y_train)\n",
    "            self.y_test=np.array(self.y_test)\n",
    "            train_data=datagen.flow(self.x_train,self.y_train)\n",
    "            valid_data=validgen.flow(self.x_test,self.y_test)\n",
    "            return train_data,valid_data    \n",
    "        except Exception as e:\n",
    "            print(e)\n",
    "            # logger.info(e)\n",
    "        # print(x_test_processed[0])\n",
    "        \n",
    "    @staticmethod\n",
    "    def load_data(self,data):\n",
    "        for index,folder in enumerate(glob(\"./\"+self.config.data_file_path+\"/*\")):\n",
    "            for image in glob(folder+\"/*.jpg\"):\n",
    "                img = cv2.imread(image)\n",
    "                img = cv2.resize(img, tuple(self.config.IMAGE_SIZE[:-1]), interpolation=cv2.INTER_AREA)\n",
    "                img = np.array(img)\n",
    "                self.data.append(img)\n",
    "                self.class_name.append(index)\n",
    "        print(\"Data Loaded\")\n",
    "        logger.info(\"Data Loaded\")"
   ]
  },
  {
   "cell_type": "code",
   "execution_count": 20,
   "metadata": {},
   "outputs": [
    {
     "name": "stdout",
     "output_type": "stream",
     "text": [
      "[2023-12-31 13:47:19,028 : INFO : common : Yaml File : config\\config.yaml Loaded Successfully : ]\n",
      "[2023-12-31 13:47:19,031 : INFO : common : Yaml File : params.yaml Loaded Successfully : ]\n",
      "[2023-12-31 13:47:19,033 : INFO : common : Created Directory : artifacts : ]\n",
      "Data Loaded\n",
      "[2023-12-31 13:47:25,849 : INFO : 3190411564 : Data Loaded : ]\n",
      "Data Augmentation Done\n",
      "[2023-12-31 13:47:30,122 : INFO : 3190411564 : Data Augmentation Done : ]\n",
      "[2023-12-31 13:47:31,836 : INFO : 3190411564 : Model is loaded from artifacts/prepare_base_model/base_model_update.h5 : ]\n"
     ]
    },
    {
     "name": "stderr",
     "output_type": "stream",
     "text": [
      "C:\\Users\\Shreyas\\AppData\\Local\\Temp\\ipykernel_82444\\3190411564.py:13: UserWarning: `Model.fit_generator` is deprecated and will be removed in a future version. Please use `Model.fit`, which supports generators.\n",
      "  history=model.fit_generator(\n"
     ]
    },
    {
     "name": "stdout",
     "output_type": "stream",
     "text": [
      "Epoch 1/20\n",
      "25/25 [==============================] - 28s 1s/step - loss: 0.4069 - accuracy: 0.9909 - val_loss: 0.4957 - val_accuracy: 0.9845\n",
      "Epoch 2/20\n",
      "25/25 [==============================] - 24s 964ms/step - loss: 0.7031 - accuracy: 0.9844 - val_loss: 0.4653 - val_accuracy: 0.9793\n",
      "Epoch 3/20\n",
      "25/25 [==============================] - 24s 978ms/step - loss: 1.1819 - accuracy: 0.9896 - val_loss: 1.7804 - val_accuracy: 0.9741\n",
      "Epoch 4/20\n",
      "25/25 [==============================] - 24s 969ms/step - loss: 0.7163 - accuracy: 0.9896 - val_loss: 1.9332 - val_accuracy: 0.9534\n",
      "Epoch 5/20\n",
      "25/25 [==============================] - 25s 989ms/step - loss: 1.1834 - accuracy: 0.9805 - val_loss: 0.0000e+00 - val_accuracy: 1.0000\n",
      "Epoch 6/20\n",
      "25/25 [==============================] - 25s 982ms/step - loss: 0.7154 - accuracy: 0.9870 - val_loss: 2.4087 - val_accuracy: 0.9378\n",
      "Epoch 7/20\n",
      "25/25 [==============================] - 25s 1000ms/step - loss: 0.2973 - accuracy: 0.9948 - val_loss: 1.0201 - val_accuracy: 0.9896\n",
      "Epoch 8/20\n",
      "25/25 [==============================] - 24s 972ms/step - loss: 0.8074 - accuracy: 0.9896 - val_loss: 1.0481 - val_accuracy: 0.9896\n",
      "Epoch 9/20\n",
      "25/25 [==============================] - 28s 1s/step - loss: 2.0840 - accuracy: 0.9780 - val_loss: 11.7697 - val_accuracy: 0.9067\n",
      "Epoch 10/20\n",
      "25/25 [==============================] - 27s 1s/step - loss: 3.4356 - accuracy: 0.9702 - val_loss: 15.9130 - val_accuracy: 0.9016\n",
      "Epoch 11/20\n",
      "25/25 [==============================] - 27s 1s/step - loss: 0.8950 - accuracy: 0.9883 - val_loss: 2.0427 - val_accuracy: 0.9793\n",
      "Epoch 12/20\n",
      "25/25 [==============================] - 27s 1s/step - loss: 0.1893 - accuracy: 0.9922 - val_loss: 4.0534 - val_accuracy: 0.9741\n",
      "Epoch 13/20\n",
      "25/25 [==============================] - 27s 1s/step - loss: 1.1389 - accuracy: 0.9883 - val_loss: 0.3580 - val_accuracy: 0.9896\n",
      "Epoch 14/20\n",
      "25/25 [==============================] - 27s 1s/step - loss: 0.6876 - accuracy: 0.9948 - val_loss: 2.7438 - val_accuracy: 0.9689\n",
      "Epoch 15/20\n",
      "25/25 [==============================] - 27s 1s/step - loss: 0.5333 - accuracy: 0.9922 - val_loss: 0.3739 - val_accuracy: 0.9896\n",
      "Epoch 16/20\n",
      "25/25 [==============================] - 28s 1s/step - loss: 0.4003 - accuracy: 0.9948 - val_loss: 1.8707 - val_accuracy: 0.9741\n",
      "Epoch 17/20\n",
      "25/25 [==============================] - 27s 1s/step - loss: 0.3525 - accuracy: 0.9961 - val_loss: 1.0783 - val_accuracy: 0.9793\n",
      "Epoch 18/20\n",
      "25/25 [==============================] - 28s 1s/step - loss: 0.0747 - accuracy: 0.9987 - val_loss: 5.1267e-04 - val_accuracy: 1.0000\n",
      "Epoch 19/20\n",
      "25/25 [==============================] - 30s 1s/step - loss: 0.0000e+00 - accuracy: 1.0000 - val_loss: 0.0000e+00 - val_accuracy: 1.0000\n",
      "Epoch 20/20\n",
      "25/25 [==============================] - 30s 1s/step - loss: 0.1445 - accuracy: 0.9987 - val_loss: 0.1978 - val_accuracy: 0.9948\n",
      "[2023-12-31 13:56:28,705 : INFO : 3190411564 : Saving history at artifacts/model_train/train_history.json : ]\n",
      "[2023-12-31 13:56:28,709 : INFO : 3190411564 : Model is saved at artifacts/prepare_base_model/base_model_update.h5 : ]\n"
     ]
    }
   ],
   "source": [
    "try:\n",
    "    model_config = ModelConfig()\n",
    "    train_config = model_config.prepare_data_for_model()\n",
    "    train_model = TrainModel(train_config)\n",
    "    train_model.train()\n",
    "except Exception as e:\n",
    "    logger.exception(e)\n",
    "    raise e"
   ]
  },
  {
   "cell_type": "code",
   "execution_count": 25,
   "metadata": {},
   "outputs": [
    {
     "data": {
      "text/plain": [
       "[]"
      ]
     },
     "execution_count": 25,
     "metadata": {},
     "output_type": "execute_result"
    }
   ],
   "source": []
  },
  {
   "cell_type": "code",
   "execution_count": null,
   "metadata": {},
   "outputs": [],
   "source": []
  }
 ],
 "metadata": {
  "kernelspec": {
   "display_name": "venv",
   "language": "python",
   "name": "python3"
  },
  "language_info": {
   "codemirror_mode": {
    "name": "ipython",
    "version": 3
   },
   "file_extension": ".py",
   "mimetype": "text/x-python",
   "name": "python",
   "nbconvert_exporter": "python",
   "pygments_lexer": "ipython3",
   "version": "3.9.7"
  }
 },
 "nbformat": 4,
 "nbformat_minor": 2
}
